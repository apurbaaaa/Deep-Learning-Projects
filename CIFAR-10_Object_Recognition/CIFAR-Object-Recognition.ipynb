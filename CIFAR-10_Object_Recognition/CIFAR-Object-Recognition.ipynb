{
 "cells": [
  {
   "cell_type": "code",
   "execution_count": 1,
   "id": "03e5c9f3-eae4-4a77-8c25-466f60630276",
   "metadata": {},
   "outputs": [],
   "source": [
    "import os"
   ]
  },
  {
   "cell_type": "code",
   "execution_count": 9,
   "id": "e19a1a5d-761f-46f3-88b9-9117f5c9d3f5",
   "metadata": {},
   "outputs": [
    {
     "name": "stdout",
     "output_type": "stream",
     "text": [
      "Downloading cifar-10.zip to /Users/apurbakoirala/Developer/Deep-Learning-Projects/CIFAR-10_Object_Recognition\n",
      "100%|███████████████████████████████████████▉| 714M/715M [00:46<00:00, 14.9MB/s]\n",
      "100%|████████████████████████████████████████| 715M/715M [00:47<00:00, 16.0MB/s]\n"
     ]
    }
   ],
   "source": [
    "os.environ[\"KAGGLE_CONFIG_DIR\"] = \"/Users/apurbakoirala/Developer/Deep-Learning-Projects\"\n",
    "\n",
    "# Download the dataset\n",
    "!kaggle competitions download -c cifar-10"
   ]
  },
  {
   "cell_type": "code",
   "execution_count": null,
   "id": "fd0e179f-4e22-40c7-b839-d1aea8216c0f",
   "metadata": {},
   "outputs": [],
   "source": []
  }
 ],
 "metadata": {
  "kernelspec": {
   "display_name": "Python (myenv)",
   "language": "python",
   "name": "myenv"
  },
  "language_info": {
   "codemirror_mode": {
    "name": "ipython",
    "version": 3
   },
   "file_extension": ".py",
   "mimetype": "text/x-python",
   "name": "python",
   "nbconvert_exporter": "python",
   "pygments_lexer": "ipython3",
   "version": "3.10.13"
  }
 },
 "nbformat": 4,
 "nbformat_minor": 5
}
